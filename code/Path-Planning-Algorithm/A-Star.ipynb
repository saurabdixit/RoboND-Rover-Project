{
 "cells": [
  {
   "cell_type": "code",
   "execution_count": 1,
   "metadata": {},
   "outputs": [
    {
     "data": {
      "text/plain": [
       "<Figure size 640x480 with 1 Axes>"
      ]
     },
     "metadata": {},
     "output_type": "display_data"
    }
   ],
   "source": [
    "import numpy as np\n",
    "import cv2\n",
    "import matplotlib.pyplot as plt\n",
    "import random\n",
    "import os\n",
    "\n",
    "\n",
    "img = cv2.imread(\"./map_bw.png\")\n",
    "Map = np.array(~(img[:,:,0]==0)).astype(int)\n",
    "Navigable_terrain = np.array(Map.nonzero()).T\n",
    "Sidx = random.sample(range(0,Navigable_terrain.shape[0]),1)\n",
    "Eidx = Sidx\n",
    "while (Sidx==Eidx):\n",
    "    Eidx = random.sample(range(0,Navigable_terrain.shape[0]),1)\n",
    "\n",
    "Start = Navigable_terrain[Sidx,:][0]\n",
    "Goal = Navigable_terrain[Eidx,:][0]\n",
    "Map = np.array(~(img[:,:,0]==0)).astype(int)\n",
    "obstacles = np.where(Map == 0)\n",
    "\n",
    "#img_size = 120\n",
    "#img = np.ones([img_size,img_size,3],np.int)\n",
    "#img = img * 255;\n",
    "#obst_size = 4; #DO NOT CHANGE\n",
    "#obstacle_end_points = np.array(\n",
    "#    [[int(img.shape[0]/obst_size),int(img.shape[1]/obst_size)]\n",
    "#     ,[int(img.shape[0] - img.shape[0]/obst_size),int(img.shape[1]/obst_size)]\n",
    "#     ,[int(img.shape[0] - img.shape[0]/obst_size),int(img.shape[1] - img.shape[1]/obst_size)]\n",
    "#     ,[int(img.shape[0]/obst_size),int(img.shape[1] - img.shape[1]/obst_size)]\n",
    "#    ])\n",
    "#cv2.polylines(img,pts=[obstacle_end_points], isClosed=False, color=(0,0,0), thickness = int(img_size/20))\n",
    "#Map = np.array(img[:,:,2]).astype(int)\n",
    "#obstacles = np.where(Map == 0)\n",
    "#Start = np.array([int(img_size/2),int(img_size/2)])\n",
    "#Goal = np.array([int(img_size/2),int(img_size - img_size/6)])\n",
    "\n",
    "\n",
    "#print(Start)\n",
    "#print(Goal)\n",
    "Start = np.array([83,73])\n",
    "Goal = np.array([156,111])\n",
    "img[Start[0],Start[1],:] = 0\n",
    "img[Start[0],Start[1],0] = 255\n",
    "img[Goal[0],Goal[1],:] = 0\n",
    "img[Goal[0],Goal[1],1] = 255\n",
    "plt.imshow(img)\n",
    "plt.show()"
   ]
  },
  {
   "cell_type": "code",
   "execution_count": 2,
   "metadata": {},
   "outputs": [],
   "source": [
    "Traversal_array = np.array([[-1, -1]\n",
    "                             ,[0, -1]\n",
    "                             ,[1, -1]\n",
    "                             ,[-1, 0]\n",
    "                             ,[1, 0]\n",
    "                             ,[-1, 1]\n",
    "                             ,[0, 1]\n",
    "                             ,[1, 1]])\n",
    "\n",
    "def GetNavigableNeighbors(pos,Traversal_array,obstacles):\n",
    "    neighbors = np.ones_like(Traversal_array) * pos\n",
    "    neighbors = neighbors + Traversal_array\n",
    "    NavigableNeighbors = []\n",
    "    for neighbor in neighbors.tolist():\n",
    "        if not(neighbor in np.append([obstacles[0]],[obstacles[1]],axis=0).T.tolist()):\n",
    "            NavigableNeighbors.append(neighbor)\n",
    "    return np.array(NavigableNeighbors)\n",
    "\n",
    "def euclidean_dist(pt1,pt2):\n",
    "    return np.sqrt(np.square(pt1[0]-pt2[0]) + np.square(pt1[1]-pt2[1]))\n",
    "\n",
    "class Node():\n",
    "    def __init__(self,pos,goal,parent=None):\n",
    "        self.pos = np.array(pos)\n",
    "        if parent != None:\n",
    "            self.gcost = euclidean_dist(pos,parent.pos) + parent.gcost\n",
    "        else:\n",
    "            self.gcost = 0\n",
    "        self.parent = parent\n",
    "        self.hcost = euclidean_dist(pos,goal)\n",
    "    \n",
    "    def GetFCost(self):\n",
    "        return self.gcost + self.hcost\n",
    "    def Print(self):\n",
    "        print(\"Position: \",self.pos)\n",
    "        print(\"Parent: \",self.parent)\n",
    "        print(\"Gcost: \",self.gcost)\n",
    "        print(\"Hcost: \",self.hcost)\n",
    "        print(\"Fcost: \",self.gcost+self.hcost)\n",
    "\n",
    "StartNode = Node(Start,Goal)\n",
    "parent_id = -1\n",
    "Exploring_nodes = np.array([[parent_id,StartNode.pos[0],StartNode.pos[1],StartNode.GetFCost(),StartNode.hcost,0]])\n",
    "ExecutingNode = StartNode\n",
    "ExploredNodes = {'0':ExecutingNode}\n",
    "#type(ExecutingNode.pos)"
   ]
  },
  {
   "cell_type": "code",
   "execution_count": 3,
   "metadata": {},
   "outputs": [
    {
     "data": {
      "image/png": "[encoded data removed]",
      "text/plain": [
       "<Figure size 432x288 with 1 Axes>"
      ]
     },
     "metadata": {
      "needs_background": "light"
     },
     "output_type": "display_data"
    }
   ],
   "source": [
    "while ExecutingNode.pos.astype(int).tolist() != Goal.astype(int).tolist():\n",
    "    parent_id += 1\n",
    "    for neighbor in GetNavigableNeighbors(ExecutingNode.pos,Traversal_array,obstacles).tolist():\n",
    "        if not(neighbor in np.array(Exploring_nodes[:,1:3]).tolist()):\n",
    "            CurrentNode = Node(neighbor,Goal,ExecutingNode)\n",
    "            Exploring_nodes = np.append(Exploring_nodes\n",
    "                                      ,[[parent_id, \n",
    "                                        CurrentNode.pos[0],\n",
    "                                        CurrentNode.pos[1],\n",
    "                                        CurrentNode.GetFCost(),\n",
    "                                        CurrentNode.hcost,0]]\n",
    "                                      ,axis = 0)\n",
    "            dict_index = Exploring_nodes.shape[0] - 1\n",
    "            ExploredNodes.update({str(dict_index) : CurrentNode})\n",
    "            #CurrentNode.Print()\n",
    "\n",
    "\n",
    "    idx = Exploring_nodes[:,1:3].tolist().index(ExecutingNode.pos.tolist())\n",
    "    Exploring_nodes[idx,5] = 1\n",
    "    non_visited = np.where(Exploring_nodes[:,5] != 1)[0]\n",
    "    lowest_fcost = non_visited[np.where(Exploring_nodes[non_visited,3] \n",
    "                                        == np.min(Exploring_nodes[non_visited,3]))[0]]\n",
    "\n",
    "    #print(ExecutingNode.pos)\n",
    "    if len(lowest_fcost) == 1:\n",
    "        ExecutingNode = ExploredNodes[str(lowest_fcost[0])]\n",
    "        #print(\"Fcost: \",lowest_fcost)\n",
    "    else:\n",
    "        lowest_hcost = non_visited[np.where(Exploring_nodes[non_visited,4] \n",
    "                                        == np.min(Exploring_nodes[non_visited,4]))[0]]\n",
    "        #print(\"Hcost: \",lowest_hcost)\n",
    "        ExecutingNode = ExploredNodes[str(lowest_hcost[0])]\n",
    "\n",
    "    #img[int(ExecutingNode.pos[0]),int(ExecutingNode.pos[1]),:] = 0\n",
    "    #img[int(ExecutingNode.pos[0]),int(ExecutingNode.pos[1]),2] = 255\n",
    "plt.imshow(img)\n",
    "plt.show()"
   ]
  },
  {
   "cell_type": "code",
   "execution_count": 4,
   "metadata": {
    "scrolled": true
   },
   "outputs": [
    {
     "name": "stdout",
     "output_type": "stream",
     "text": [
      "[156 111]\n"
     ]
    }
   ],
   "source": [
    "\n",
    "\n",
    "print(Goal)"
   ]
  },
  {
   "cell_type": "code",
   "execution_count": 5,
   "metadata": {},
   "outputs": [
    {
     "data": {
      "image/png": "[encoded data removed]",
      "text/plain": [
       "<Figure size 432x288 with 1 Axes>"
      ]
     },
     "metadata": {
      "needs_background": "light"
     },
     "output_type": "display_data"
    }
   ],
   "source": [
    "def GetPath(Start,FinalExecutingNode):\n",
    "    Path = []\n",
    "    current_node = FinalExecutingNode\n",
    "    while Start.astype(int).tolist() != current_node.pos.astype(int).tolist():\n",
    "        Path.append(current_node.pos.astype(int).tolist())\n",
    "        current_node = current_node.parent\n",
    "        img[int(current_node.pos[0]),int(current_node.pos[1]),:] = 0\n",
    "        img[int(current_node.pos[0]),int(current_node.pos[1]),2] = 255\n",
    "    return Path\n",
    "\n",
    "#print(GetPath(Start,ExecutingNode))\n",
    "#img = cv2.imread(\"./map_bw.png\")\n",
    "\n",
    "Path = GetPath(Start,ExecutingNode)\n",
    "plt.imshow(img)\n",
    "plt.show()"
   ]
  },
  {
   "cell_type": "code",
   "execution_count": 6,
   "metadata": {
    "scrolled": false
   },
   "outputs": [
    {
     "name": "stdout",
     "output_type": "stream",
     "text": [
      "Position:  [155 111]\n",
      "Parent:  <__main__.Node object at 0x000001234C967EB8>\n",
      "Gcost:  116.2253967444161\n",
      "Hcost:  1.0\n",
      "Fcost:  117.2253967444161\n"
     ]
    }
   ],
   "source": [
    "parent_node = ExecutingNode.parent\n",
    "parent_node.Print()\n",
    "\n"
   ]
  }
 ],
 "metadata": {
  "kernelspec": {
   "display_name": "Python [conda env:RoboND]",
   "language": "python",
   "name": "conda-env-RoboND-py"
  },
  "language_info": {
   "codemirror_mode": {
    "name": "ipython",
    "version": 3
   },
   "file_extension": ".py",
   "mimetype": "text/x-python",
   "name": "python",
   "nbconvert_exporter": "python",
   "pygments_lexer": "ipython3",
   "version": "3.5.2"
  },
  "widgets": {
   "state": {},
   "version": "1.1.2"
  }
 },
 "nbformat": 4,
 "nbformat_minor": 2
}
